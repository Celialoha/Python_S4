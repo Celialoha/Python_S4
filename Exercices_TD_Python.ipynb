{
 "cells": [
  {
   "cell_type": "markdown",
   "metadata": {},
   "source": [
    "# Exercice Palindrome"
   ]
  },
  {
   "cell_type": "code",
   "execution_count": 1,
   "metadata": {},
   "outputs": [
    {
     "name": "stdout",
     "output_type": "stream",
     "text": [
      "Veuillez entrer un mot Celia\n",
      "ce n'est pas un palindrome\n"
     ]
    }
   ],
   "source": [
    "mot = input('Veuillez entrer un mot ')\n",
    "x=mot[::-1]\n",
    "if mot == x:\n",
    "    print(\"c'est bien un palindrome\")\n",
    "else:\n",
    "    print (\"ce n'est pas un palindrome\")"
   ]
  },
  {
   "cell_type": "markdown",
   "metadata": {},
   "source": [
    "# Exercice Lancer de dés"
   ]
  },
  {
   "cell_type": "code",
   "execution_count": 4,
   "metadata": {},
   "outputs": [
    {
     "name": "stdout",
     "output_type": "stream",
     "text": [
      "2\n",
      "2\n",
      "6\n",
      "3\n",
      "4\n",
      "La somme est  17\n"
     ]
    }
   ],
   "source": [
    "from random import randint\n",
    "somme = 0\n",
    "\n",
    "for i in range(5):\n",
    "    tmp = randint(1,6)\n",
    "    somme += tmp\n",
    "    print(tmp)\n",
    "\n",
    "print(\"La somme est \", somme)"
   ]
  },
  {
   "cell_type": "markdown",
   "metadata": {},
   "source": [
    "# Exercice Calcul de moyennes\n",
    "                    "
   ]
  },
  {
   "cell_type": "code",
   "execution_count": 1,
   "metadata": {},
   "outputs": [
    {
     "name": "stdout",
     "output_type": "stream",
     "text": [
      "Veuillez entrer les notes de l'étudiant 1\n",
      "Veuillez entrer la note numéro 1\n",
      "5\n",
      "Veuillez entrer la note numéro 2\n",
      "15\n",
      "Veuillez entrer la note numéro 3\n",
      "20\n",
      "Veuillez entrer la note numéro 4\n",
      "16.75\n",
      "Veuillez entrer la note numéro 5\n",
      "3.5\n",
      "La moyenne est de 12.05\n",
      "Avez-vous fini de rentrer tous les étudiants ? \n",
      "non\n",
      "Veuillez entrer les notes de l'étudiant 2\n",
      "Veuillez entrer la note numéro 1\n",
      "6\n",
      "Veuillez entrer la note numéro 2\n",
      "19.5\n",
      "Veuillez entrer la note numéro 3\n",
      "8\n",
      "Veuillez entrer la note numéro 4\n",
      "5\n",
      "Veuillez entrer la note numéro 5\n",
      "17.75\n",
      "La moyenne est de 11.25\n",
      "Avez-vous fini de rentrer tous les étudiants ? \n",
      "non\n",
      "Veuillez entrer les notes de l'étudiant 3\n",
      "Veuillez entrer la note numéro 1\n",
      "18\n",
      "Veuillez entrer la note numéro 2\n",
      "0\n",
      "Veuillez entrer la note numéro 3\n",
      "1\n",
      "Veuillez entrer la note numéro 4\n",
      "9\n",
      "Veuillez entrer la note numéro 5\n",
      "19\n",
      "La moyenne est de 9.4\n",
      "Avez-vous fini de rentrer tous les étudiants ? \n",
      "oui\n"
     ]
    }
   ],
   "source": [
    "i=0;\n",
    "nbre_notes=5\n",
    "table_notes=[]\n",
    "etudiant=True\n",
    "j=0\n",
    "\n",
    "while(etudiant):\n",
    "    j = j + 1\n",
    "    print(\"Veuillez entrer les notes de l'étudiant \" + str(j))\n",
    "    while(i < nbre_notes):\n",
    "        i = i + 1\n",
    "        table_notes.append(float(input(\"Veuillez entrer la note numéro \" + str(i) + \"\\n\")))\n",
    "    i=0\n",
    "    moyenne=sum(table_notes)/nbre_notes\n",
    "    print(\"La moyenne est de \" + str(moyenne))\n",
    "    table_notes=[]\n",
    "\n",
    "    if (input(\"Avez-vous fini de rentrer tous les étudiants ? \\n\")==\"oui\"):\n",
    "        etudiant = False\n",
    "        \n",
    "    \n",
    "       \n",
    "    \n",
    "    \n",
    "\n"
   ]
  },
  {
   "cell_type": "markdown",
   "metadata": {
    "collapsed": true
   },
   "source": [
    "# Matrice"
   ]
  },
  {
   "cell_type": "markdown",
   "metadata": {
    "collapsed": true
   },
   "source": [
    "## 4.1"
   ]
  },
  {
   "cell_type": "code",
   "execution_count": 17,
   "metadata": {},
   "outputs": [
    {
     "name": "stdout",
     "output_type": "stream",
     "text": [
      "25\n"
     ]
    }
   ],
   "source": [
    "matrix = [[1, 3, 2],\n",
    "         [5, 6, 7],\n",
    "         [8, 9, 4]]\n",
    "\n",
    "def sommeImpairs(tab2d):\n",
    "    somme=0\n",
    "    \n",
    "    for ligne in (tab2d):\n",
    "        for valeur in ligne:\n",
    "            if valeur % 2 == 1:\n",
    "                somme+=valeur\n",
    "    return somme\n",
    "\n",
    "print(sommeImpairs(matrix))\n",
    "\n",
    "\n",
    "#i=0\n",
    "#sommeImpairs=0\n",
    "\n",
    "#for i in range (len(tab2d)):\n",
    "#    if tab2d[i] % 2 == 1:\n",
    "#        sommeImpairs+=tab2d[i] \n",
    "   \n",
    "#print(\"La somme des éléments impairs sont \"+ str(sommeImpairs))\n"
   ]
  },
  {
   "cell_type": "markdown",
   "metadata": {},
   "source": [
    "# FIBONACCI"
   ]
  },
  {
   "cell_type": "code",
   "execution_count": 19,
   "metadata": {},
   "outputs": [
    {
     "name": "stdout",
     "output_type": "stream",
     "text": [
      "8\n"
     ]
    }
   ],
   "source": [
    "def fibonacci(n):\n",
    "    if n==0 or n==1:\n",
    "        return 1\n",
    "    return fibonacci(n-1)+fibonacci(n-2)\n",
    "print(fibonacci(5))"
   ]
  },
  {
   "cell_type": "code",
   "execution_count": 21,
   "metadata": {},
   "outputs": [
    {
     "name": "stdout",
     "output_type": "stream",
     "text": [
      "5\n"
     ]
    }
   ],
   "source": [
    "def f(n):\n",
    "    return (1 if n==0 or n==1 else f(n-2)+f(n-1))\n",
    "print(f(4))"
   ]
  },
  {
   "cell_type": "markdown",
   "metadata": {
    "collapsed": true
   },
   "source": [
    "# Année bissextile"
   ]
  },
  {
   "cell_type": "code",
   "execution_count": 6,
   "metadata": {},
   "outputs": [
    {
     "name": "stdout",
     "output_type": "stream",
     "text": [
      "Entrer une année : 2020\n",
      "C'est bien une année bissextile\n"
     ]
    }
   ],
   "source": [
    "annee = int(input(\"Entrer une année : \")) \n",
    "if annee % 4 == 0 and (annee % 100 != 0 or annee % 400 == 0):    \n",
    "    print(\"C'est bien une année bissextile !\") \n",
    "else:    \n",
    "    print(\"Ce n'est pas une année non bissextile !\")"
   ]
  },
  {
   "cell_type": "markdown",
   "metadata": {
    "collapsed": true
   },
   "source": [
    "# Base de données étudiante"
   ]
  },
  {
   "cell_type": "code",
   "execution_count": 1,
   "metadata": {},
   "outputs": [
    {
     "data": {
      "text/plain": [
       "array([0, 1, 2, 3, 4])"
      ]
     },
     "execution_count": 1,
     "metadata": {},
     "output_type": "execute_result"
    }
   ],
   "source": [
    "import numpy as np \n",
    "\n",
    "a=np.array([0,1,2,3, 4])\n",
    "a"
   ]
  },
  {
   "cell_type": "code",
   "execution_count": null,
   "metadata": {
    "collapsed": true
   },
   "outputs": [],
   "source": []
  }
 ],
 "metadata": {
  "kernelspec": {
   "display_name": "Python 3",
   "language": "python",
   "name": "python3"
  },
  "language_info": {
   "codemirror_mode": {
    "name": "ipython",
    "version": 3
   },
   "file_extension": ".py",
   "mimetype": "text/x-python",
   "name": "python",
   "nbconvert_exporter": "python",
   "pygments_lexer": "ipython3",
   "version": "3.6.7"
  }
 },
 "nbformat": 4,
 "nbformat_minor": 2
}
